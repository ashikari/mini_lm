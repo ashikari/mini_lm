{
 "cells": [
  {
   "cell_type": "code",
   "execution_count": null,
   "id": "0f33583e-e1c6-4047-910e-c160f3e2ad6d",
   "metadata": {},
   "outputs": [],
   "source": [
    "from datasets import load_dataset"
   ]
  },
  {
   "cell_type": "markdown",
   "id": "6b4b5a80-d7d9-4a04-8b81-1fa1c5638850",
   "metadata": {},
   "source": [
    "## Load Dataset and Show Dataset Metadata"
   ]
  },
  {
   "cell_type": "code",
   "execution_count": null,
   "id": "509779a9-9867-4870-bfb2-9910c94a7c1e",
   "metadata": {},
   "outputs": [],
   "source": [
    "dataset = load_dataset(\"wikitext\", \"wikitext-103-v1\", split=\"train[:1%]\")\n",
    "print(dataset)"
   ]
  },
  {
   "cell_type": "markdown",
   "id": "ed53ebd8-026f-47a2-bde5-388e2fc6997d",
   "metadata": {},
   "source": [
    "## Print First 30 Elements from WikiText 103"
   ]
  },
  {
   "cell_type": "code",
   "execution_count": null,
   "id": "95bb4a6c-144d-41f9-b057-35ff4686f6bd",
   "metadata": {},
   "outputs": [],
   "source": [
    "for i, element in enumerate(dataset):\n",
    "    print(i, element)\n",
    "    if i > 30:\n",
    "        break"
   ]
  },
  {
   "cell_type": "code",
   "execution_count": null,
   "id": "4017265b-e79f-4ae5-b4c4-5c6b27336106",
   "metadata": {},
   "outputs": [],
   "source": [
    "baby_lm_dataset = load_dataset(\"cambridge-climb/BabyLM\", trust_remote_code=True)\n",
    "print(baby_lm_dataset)"
   ]
  },
  {
   "cell_type": "markdown",
   "id": "bf6e6064-7391-4c89-a893-472a96dd5058",
   "metadata": {},
   "source": [
    "## Print First 30 Elements from BabyLM"
   ]
  },
  {
   "cell_type": "code",
   "execution_count": null,
   "id": "b738767c-44b3-4bdf-aee9-b9234fc51606",
   "metadata": {},
   "outputs": [],
   "source": [
    "for i, element in enumerate(baby_lm_dataset[\"train\"]):\n",
    "    print(i, element[\"text\"])\n",
    "    if i > 100:\n",
    "        break"
   ]
  },
  {
   "cell_type": "code",
   "execution_count": null,
   "id": "ef3df8b5-aad5-42ae-9e95-07ee791cfe6a",
   "metadata": {},
   "outputs": [],
   "source": []
  }
 ],
 "metadata": {
  "kernelspec": {
   "display_name": "Python 3 (ipykernel)",
   "language": "python",
   "name": "python3"
  },
  "language_info": {
   "codemirror_mode": {
    "name": "ipython",
    "version": 3
   },
   "file_extension": ".py",
   "mimetype": "text/x-python",
   "name": "python",
   "nbconvert_exporter": "python",
   "pygments_lexer": "ipython3",
   "version": "3.11.8"
  }
 },
 "nbformat": 4,
 "nbformat_minor": 5
}
